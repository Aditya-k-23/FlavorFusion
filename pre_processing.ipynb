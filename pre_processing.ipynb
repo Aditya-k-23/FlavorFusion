{
 "cells": [
  {
   "cell_type": "markdown",
   "metadata": {},
   "source": [
    "# Pre-Processing Data\n"
   ]
  },
  {
   "cell_type": "code",
   "execution_count": 16,
   "metadata": {},
   "outputs": [],
   "source": [
    "# Imports\n",
    "import pandas as pd\n",
    "import numpy as np"
   ]
  },
  {
   "cell_type": "markdown",
   "metadata": {},
   "source": [
    "## Cleaning interactions_train, interactions_validation, interactions_test\n"
   ]
  },
  {
   "cell_type": "code",
   "execution_count": 23,
   "metadata": {},
   "outputs": [],
   "source": [
    "def process_data(file):\n",
    "    # Load data\n",
    "    df = pd.read_csv(file)\n",
    "\n",
    "    # Load RAW_recipes\n",
    "    raw = pd.read_csv('data/RAW_recipes.csv')\n",
    "\n",
    "    # Join 'recipe_id' and 'recipe_name' columns\n",
    "    df = pd.merge(df, raw, how='left', left_on='recipe_id', right_on='id')\n",
    "\n",
    "    # Drop unmapped id columns\n",
    "    df.drop(['u','i'],axis=1,inplace=True)\n",
    "\n",
    "    # Convert 'date' column to datetime format\n",
    "    df['date'] = pd.to_datetime(df['date'])\n",
    "\n",
    "    return df"
   ]
  },
  {
   "cell_type": "code",
   "execution_count": 24,
   "metadata": {},
   "outputs": [],
   "source": [
    "# Get processed data\n",
    "interactions_train_processed = process_data(\"data/interactions_train.csv\")\n",
    "interactions_validation_processed = process_data(\"data/interactions_validation.csv\")\n",
    "interactions_test_processed = process_data(\"data/interactions_test.csv\")\n",
    "\n",
    "# Save as csv\n",
    "interactions_train_processed.to_csv(\"data/interactions_train_processed.csv\", index=False)\n",
    "interactions_validation_processed.to_csv(\"data/interactions_validation_processed.csv\", index=False)\n",
    "interactions_test_processed.to_csv(\"data/interactions_test_processed.csv\", index=False)"
   ]
  },
  {
   "cell_type": "markdown",
   "metadata": {},
   "source": [
    "## Convert ingr_map into csv\n"
   ]
  },
  {
   "cell_type": "code",
   "execution_count": 19,
   "metadata": {},
   "outputs": [],
   "source": [
    "# Load ingr_map.pkl as df\n",
    "df_ingredient_map = pd.read_pickle(\"data/ingr_map.pkl\")\n",
    "\n",
    "# Only keep ingredient name and ids\n",
    "df_ingredient_map = df_ingredient_map[[\"replaced\", \"id\"]]\n",
    "\n",
    "# Drop duplicates and reset index\n",
    "df_ingredient_map.drop_duplicates(subset =\"replaced\", keep = 'first', inplace = True)\n",
    "df_ingredient_map.reset_index(drop=True, inplace=True)\n",
    "\n",
    "# Display ingredient_map\n",
    "df_ingredient_map"
   ]
  },
  {
   "cell_type": "code",
   "execution_count": 20,
   "metadata": {},
   "outputs": [],
   "source": [
    "# Save as csv\n",
    "df_ingredient_map.to_csv(\"data/ingredient_map.csv\", index=False)"
   ]
  },
  {
   "cell_type": "markdown",
   "metadata": {},
   "source": [
    "## Add ingredient names into PP_recipes\n"
   ]
  },
  {
   "cell_type": "code",
   "execution_count": 21,
   "metadata": {},
   "outputs": [],
   "source": [
    "# Load data\n",
    "ingredient_map = pd.read_csv('data/ingredient_map.csv')\n",
    "recipes = pd.read_csv('data/PP_recipes.csv')\n",
    "recipes = recipes.drop(columns=['i'])\n",
    "\n",
    "# Create a dictionary for mapping IDs to ingredient names\n",
    "id_to_name = dict(zip(ingredient_map['id'], ingredient_map['replaced']))\n",
    "\n",
    "# Function to replace ingredient IDs with names\n",
    "def replace_ids_with_names(id_list):\n",
    "    return [id_to_name.get(ingredient_id, f\"Unknown({ingredient_id})\") for ingredient_id in eval(id_list)]\n",
    "\n",
    "# Apply the function to the ingredient_ids column\n",
    "recipes['ingredient_names'] = recipes['ingredient_ids'].apply(replace_ids_with_names)\n",
    "\n",
    "# Display updated recipe data\n",
    "recipes"
   ]
  },
  {
   "cell_type": "code",
   "execution_count": 22,
   "metadata": {},
   "outputs": [],
   "source": [
    "# Save the updated recipes to a new CSV file\n",
    "updated_recipes_path = 'data/PP_recipes_updated.csv'\n",
    "recipes.to_csv(updated_recipes_path, index=False)"
   ]
  }
 ],
 "metadata": {
  "kernelspec": {
   "display_name": ".venv",
   "language": "python",
   "name": "python3"
  },
  "language_info": {
   "codemirror_mode": {
    "name": "ipython",
    "version": 3
   },
   "file_extension": ".py",
   "mimetype": "text/x-python",
   "name": "python",
   "nbconvert_exporter": "python",
   "pygments_lexer": "ipython3",
   "version": "3.9.10"
  }
 },
 "nbformat": 4,
 "nbformat_minor": 2
}
