{
 "cells": [
  {
   "cell_type": "code",
   "execution_count": null,
   "metadata": {},
   "outputs": [],
   "source": [
    "import pandas as pd\n",
    "import matplotlib.pyplot as plt\n",
    "import numpy as np\n",
    "import pickle as pkl\n",
    "\n",
    "\n",
    "from surprise import SVD\n",
    "from surprise import Dataset, Reader\n",
    "from surprise.model_selection import train_test_split\n",
    "from surprise.accuracy import rmse\n",
    "\n",
    "from sklearn.feature_extraction.text import TfidfVectorizer\n",
    "from sklearn.metrics.pairwise import cosine_similarity"
   ]
  },
  {
   "cell_type": "code",
   "execution_count": null,
   "metadata": {},
   "outputs": [],
   "source": [
    "with open(\"data/ingr_map.pkl\", \"rb\") as f:\n",
    "    object = pkl.load(f)\n",
    "df_ingredient_map = pd.DataFrame(object)\n",
    "df_ingredient_map = df_ingredient_map[[\"replaced\", \"id\"]]\n",
    "df_ingredient_map.drop_duplicates(subset =\"replaced\", keep = 'first', inplace = True)\n",
    "df_ingredient_map.reset_index(drop=True, inplace=True)\n",
    "df_ingredient_map.to_csv(\"data/ingredient_map.csv\", index=False)"
   ]
  },
  {
   "cell_type": "code",
   "execution_count": null,
   "metadata": {},
   "outputs": [],
   "source": [
    "# Load data\n",
    "df_pp_recipes = pd.read_csv(\"data/PP_recipes.csv\")\n",
    "df_pp_recipes = df_pp_recipes[['i','ingredient_ids']]\n",
    "df_pp_recipes"
   ]
  },
  {
   "cell_type": "code",
   "execution_count": null,
   "metadata": {},
   "outputs": [],
   "source": [
    "# Load the ingredient map and recipe files\n",
    "ingredient_map_path = 'data/ingredient_map.csv'\n",
    "recipes_path = 'data/PP_recipes.csv'\n",
    "\n",
    "ingredient_map = pd.read_csv(ingredient_map_path)\n",
    "recipes = pd.read_csv(recipes_path)\n",
    "\n",
    "# Display the first few rows of each to understand their structure\n",
    "ingredient_map.head(), recipes.head()\n",
    "\n",
    "# Create a dictionary for mapping IDs to ingredient names\n",
    "id_to_name = dict(zip(ingredient_map['id'], ingredient_map['replaced']))\n",
    "\n",
    "# Function to replace ingredient IDs with names\n",
    "def replace_ids_with_names(id_list):\n",
    "    return [id_to_name.get(ingredient_id, f\"Unknown({ingredient_id})\") for ingredient_id in eval(id_list)]\n",
    "\n",
    "# Apply the function to the ingredient_ids column\n",
    "recipes['ingredient_names'] = recipes['ingredient_ids'].apply(replace_ids_with_names)\n",
    "\n",
    "# Save the updated recipes to a new CSV file\n",
    "updated_recipes_path = 'data/PP_recipes_updated.csv'\n",
    "recipes.to_csv(updated_recipes_path, index=False)\n",
    "\n",
    "updated_recipes_path"
   ]
  }
 ],
 "metadata": {
  "kernelspec": {
   "display_name": ".venv",
   "language": "python",
   "name": "python3"
  },
  "language_info": {
   "name": "python",
   "version": "3.9.10"
  }
 },
 "nbformat": 4,
 "nbformat_minor": 2
}
