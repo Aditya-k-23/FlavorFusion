{
 "cells": [
  {
   "cell_type": "markdown",
   "metadata": {},
   "source": [
    "# FAISS"
   ]
  },
  {
   "cell_type": "code",
   "execution_count": 65,
   "metadata": {},
   "outputs": [],
   "source": [
    "import faiss\n",
    "import pandas as pd\n",
    "import numpy as np\n",
    "import ast\n",
    "\n",
    "# Load data\n",
    "pp_recipes = pd.read_csv(\"data/PP_recipes_updated.csv\")\n",
    "raw_recipes = pd.read_csv(\"data/RAW_recipes.csv\")\n",
    "\n",
    "# Merge\n",
    "recipes = pd.merge(pp_recipes, raw_recipes, how='left', left_on='id', right_on='id')\n",
    "\n",
    "# Drop unncessary columns\n",
    "recipes.drop(['name_tokens','ingredient_tokens','steps_tokens',\n",
    "              'techniques','ingredient_ids','contributor_id',\n",
    "              'submitted','tags','steps','description', 'ingredients'],\n",
    "              axis=1,\n",
    "              inplace=True)\n",
    "\n",
    "# Format\n",
    "recipes.insert(0, 'name', recipes.pop('name'))\n",
    "recipes.insert(4, 'n_ingredients', recipes.pop('n_ingredients'))\n",
    "recipes['ingredient_names'] = recipes['ingredient_names'].apply(ast.literal_eval)\n",
    "\n",
    "# Step 1: Encode Ingredients\n",
    "unique_ingredients = sorted(set(ingredient for ingredients in recipes['ingredient_names'] for ingredient in ingredients))\n",
    "ingredient_to_idx = {ingredient: idx for idx, ingredient in enumerate(unique_ingredients)}\n",
    "\n",
    "def encode_ingredients(ingredients):\n",
    "    vector = np.zeros(len(unique_ingredients), dtype='float32')\n",
    "    for ingredient in ingredients:\n",
    "        if ingredient in ingredient_to_idx:\n",
    "            vector[ingredient_to_idx[ingredient]] = 1.0\n",
    "    return vector\n",
    "\n",
    "# Step 2: Build FAISS Index\n",
    "vector_size = len(unique_ingredients)\n",
    "index = faiss.IndexFlatL2(vector_size)  # L2 (Euclidean) distance metric\n",
    "#index = faiss.IndexIVFPQ(quantizer, vector_size, 100, 7993, 8)\n",
    "\n",
    "vectors = np.vstack([encode_ingredients(ing) for ing in recipes['ingredient_names']])\n",
    "index.add(vectors)\n"
   ]
  },
  {
   "cell_type": "code",
   "execution_count": 4,
   "metadata": {},
   "outputs": [],
   "source": [
    "# Step 3: Recommendation Function\n",
    "def recommend_recipes(user_ingredients, top_n=5):\n",
    "    user_vector = encode_ingredients(user_ingredients).reshape(1, -1)\n",
    "    _, indices = index.search(user_vector, top_n)\n",
    "    return recipes.iloc[indices[0]]['name'].tolist()"
   ]
  },
  {
   "cell_type": "code",
   "execution_count": 27,
   "metadata": {},
   "outputs": [],
   "source": [
    "# Extract the top 5 recipes into a dictionary\n",
    "user_inputs = dict(zip(\n",
    "    recipes['name'].head(500),\n",
    "    recipes['ingredient_names'].head(500)\n",
    "))\n",
    "\n",
    "# Generate recommendations and store in DataFrame\n",
    "output = pd.DataFrame({\n",
    "    recipe_name: recommend_recipes(ingredients, top_n=11)\n",
    "    for recipe_name, ingredients in user_inputs.items()\n",
    "})"
   ]
  },
  {
   "cell_type": "markdown",
   "metadata": {},
   "source": [
    "## Evaluation"
   ]
  },
  {
   "cell_type": "markdown",
   "metadata": {},
   "source": [
    "### Mean Average Ingrement Matching (MAIM)"
   ]
  },
  {
   "cell_type": "code",
   "execution_count": 40,
   "metadata": {},
   "outputs": [
    {
     "name": "stdout",
     "output_type": "stream",
     "text": [
      "Mean average similiary score is:\n"
     ]
    },
    {
     "data": {
      "text/plain": [
       "0.05738603059308753"
      ]
     },
     "execution_count": 40,
     "metadata": {},
     "output_type": "execute_result"
    }
   ],
   "source": [
    "def ingredient_similarity_score(user_ingredients, recommended_recipe_ingredients):\n",
    "    common_items = set(user_ingredients) & set(recommended_recipe_ingredients)\n",
    "    total_unique_items = set(user_ingredients) | set(recommended_recipe_ingredients)\n",
    "    ratio = len(common_items) / len(total_unique_items)\n",
    "    return ratio\n",
    "\n",
    "def average_ingredient_similarity(recipe_example):\n",
    "    # Get list of unique recommended_recipes\n",
    "    the_list = list(set(output[recipe_example]))\n",
    "\n",
    "    # Filter recipes based on the_list\n",
    "    filtered_recipes = recipes[recipes['name'].isin(the_list)].sort_values(\n",
    "        by='name',\n",
    "        key=lambda x: pd.Categorical(x, categories=the_list, ordered=True)\n",
    "    ).reset_index(drop=True)[['name','ingredient_names']]\n",
    "\n",
    "    # Get average sim score\n",
    "    average_sim_score = 0\n",
    "    for index, row in filtered_recipes.iterrows():\n",
    "        if index!= 0:\n",
    "            average_sim_score += ingredient_similarity_score(recipes.iloc[0]['ingredient_names'], row['ingredient_names'])\n",
    "\n",
    "    return average_sim_score / (len(filtered_recipes)-1)\n",
    "\n",
    "# Calculation\n",
    "mean_average_sim_score = 0\n",
    "for col in output.columns:\n",
    "    mean_average_sim_score += average_ingredient_similarity(col)\n",
    "print(\"Mean average similarity score is:\")\n",
    "mean_average_sim_score / len(output.columns)\n"
   ]
  },
  {
   "cell_type": "code",
   "execution_count": null,
   "metadata": {},
   "outputs": [],
   "source": [
    "def mean_reciprocal_rank(y_true, y_pred):\n",
    "    \"\"\"\n",
    "    Calculate Mean Reciprocal Rank (MRR)\n",
    "\n",
    "    Parameters:\n",
    "    y_true (list of lists): Ground truth relevant items per user\n",
    "    y_pred (list of lists): Predicted ranked items per user\n",
    "\n",
    "    Returns:\n",
    "    float: MRR score\n",
    "    \"\"\"\n",
    "    reciprocal_ranks = []\n",
    "    for true_items, pred_items in zip(y_true, y_pred):\n",
    "        rank = 0\n",
    "        for idx, item in enumerate(pred_items, start=1):\n",
    "            if item in true_items:\n",
    "                rank = idx\n",
    "                break\n",
    "        reciprocal_ranks.append(1 / rank if rank > 0 else 0)\n",
    "    return np.mean(reciprocal_ranks)\n",
    "\n",
    "\n",
    "def mean_average_precision(y_true, y_pred, k=10):\n",
    "    \"\"\"\n",
    "    Calculate Mean Average Precision (MAP) at K\n",
    "\n",
    "    Parameters:\n",
    "    y_true (list of lists): Ground truth relevant items per user\n",
    "    y_pred (list of lists): Predicted ranked items per user\n",
    "    k (int): Cutoff for precision calculation\n",
    "\n",
    "    Returns:\n",
    "    float: MAP score\n",
    "    \"\"\"\n",
    "    average_precisions = []\n",
    "    for true_items, pred_items in zip(y_true, y_pred):\n",
    "        hits = 0\n",
    "        sum_precisions = 0\n",
    "        for i, item in enumerate(pred_items[:k], start=1):\n",
    "            if item in true_items:\n",
    "                hits += 1\n",
    "                sum_precisions += hits / i\n",
    "        if hits > 0:\n",
    "            average_precisions.append(sum_precisions / hits)\n",
    "        else:\n",
    "            average_precisions.append(0)\n",
    "    return np.mean(average_precisions)\n",
    "\n",
    "\n",
    "# Example usage\n",
    "y_true = [[1, 3], [2], [4, 5]]  # Ground truth relevant items\n",
    "y_pred = [[3, 2, 1], [1, 2, 3], [5, 4, 6]]  # Predicted ranked items\n",
    "\n",
    "mrr_score = mean_reciprocal_rank(y_true, y_pred)\n",
    "map_score = mean_average_precision(y_true, y_pred, k=3)\n",
    "\n",
    "print(f\"Mean Reciprocal Rank (MRR): {mrr_score:.4f}\")\n",
    "print(f\"Mean Average Precision (MAP)@3: {map_score:.4f}\")\n"
   ]
  }
 ],
 "metadata": {
  "kernelspec": {
   "display_name": "FlavorFusion",
   "language": "python",
   "name": "python3"
  },
  "language_info": {
   "codemirror_mode": {
    "name": "ipython",
    "version": 3
   },
   "file_extension": ".py",
   "mimetype": "text/x-python",
   "name": "python",
   "nbconvert_exporter": "python",
   "pygments_lexer": "ipython3",
   "version": "3.11.5"
  }
 },
 "nbformat": 4,
 "nbformat_minor": 2
}
