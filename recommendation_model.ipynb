{
 "cells": [
  {
   "cell_type": "code",
   "execution_count": 10,
   "metadata": {},
   "outputs": [],
   "source": [
    "# Import Block\n",
    "import pandas as pd\n",
    "import matplotlib.pyplot as plt\n",
    "import numpy as np\n",
    "\n",
    "from surprise import SVD\n",
    "from surprise import Dataset, Reader\n",
    "from surprise.model_selection import train_test_split\n",
    "from surprise.accuracy import rmse\n",
    "\n",
    "from sklearn.feature_extraction.text import TfidfVectorizer\n",
    "from sklearn.metrics.pairwise import cosine_similarity"
   ]
  },
  {
   "cell_type": "markdown",
   "metadata": {},
   "source": [
    "# Collaborative Filtering\n",
    "\n",
    "## Singular Value Decomposition (SVD)\n"
   ]
  },
  {
   "cell_type": "code",
   "execution_count": 11,
   "metadata": {},
   "outputs": [
    {
     "name": "stdout",
     "output_type": "stream",
     "text": [
      "RMSE: 0.9209\n"
     ]
    },
    {
     "data": {
      "text/plain": [
       "0.9209006108026337"
      ]
     },
     "execution_count": 11,
     "metadata": {},
     "output_type": "execute_result"
    }
   ],
   "source": [
    "# Load data\n",
    "df_interactions_train = pd.read_csv(\"data/interactions_train_processed.csv\")\n",
    "\n",
    "# Load data into Surprise format\n",
    "reader = Reader(rating_scale=(1, 5))\n",
    "data = Dataset.load_from_df(df_interactions_train[['user_id', 'recipe_id', 'rating']], reader)\n",
    "\n",
    "# Train-test split\n",
    "trainset, testset = train_test_split(data, test_size=0.2, random_state=42)\n",
    "\n",
    "# Train SVD model\n",
    "svd = SVD()\n",
    "svd.fit(trainset)\n",
    "\n",
    "# Evaluate the model\n",
    "predictions = svd.test(testset)\n",
    "rmse(predictions)"
   ]
  },
  {
   "cell_type": "markdown",
   "metadata": {},
   "source": [
    "# Content Filtering\n",
    "\n",
    "## Cosine Similarity\n"
   ]
  },
  {
   "cell_type": "code",
   "execution_count": null,
   "metadata": {},
   "outputs": [
    {
     "data": {
      "text/html": [
       "<div>\n",
       "<style scoped>\n",
       "    .dataframe tbody tr th:only-of-type {\n",
       "        vertical-align: middle;\n",
       "    }\n",
       "\n",
       "    .dataframe tbody tr th {\n",
       "        vertical-align: top;\n",
       "    }\n",
       "\n",
       "    .dataframe thead th {\n",
       "        text-align: right;\n",
       "    }\n",
       "</style>\n",
       "<table border=\"1\" class=\"dataframe\">\n",
       "  <thead>\n",
       "    <tr style=\"text-align: right;\">\n",
       "      <th></th>\n",
       "      <th>recipe_name</th>\n",
       "      <th>ingredient_names</th>\n",
       "    </tr>\n",
       "  </thead>\n",
       "  <tbody>\n",
       "    <tr>\n",
       "      <th>456802</th>\n",
       "      <td>greek stuffed meatloaf</td>\n",
       "      <td>['lamb', 'hamburger', 'egg', 'milk', 'quick oa...</td>\n",
       "    </tr>\n",
       "    <tr>\n",
       "      <th>622519</th>\n",
       "      <td>lamburgers with tzatziki sauce</td>\n",
       "      <td>['ground lamb', 'feta cheese', 'greek olive', ...</td>\n",
       "    </tr>\n",
       "    <tr>\n",
       "      <th>137134</th>\n",
       "      <td>zucchini moussaka</td>\n",
       "      <td>['olive oil', 'zucchini', 'onion', 'ground lam...</td>\n",
       "    </tr>\n",
       "    <tr>\n",
       "      <th>208539</th>\n",
       "      <td>zucchini moussaka</td>\n",
       "      <td>['olive oil', 'zucchini', 'onion', 'ground lam...</td>\n",
       "    </tr>\n",
       "    <tr>\n",
       "      <th>142241</th>\n",
       "      <td>moussaka  aunt dana style</td>\n",
       "      <td>['zucchini', 'olive oil', 'ground lamb', 'onio...</td>\n",
       "    </tr>\n",
       "    <tr>\n",
       "      <th>575670</th>\n",
       "      <td>moussaka  aunt dana style</td>\n",
       "      <td>['zucchini', 'olive oil', 'ground lamb', 'onio...</td>\n",
       "    </tr>\n",
       "    <tr>\n",
       "      <th>82465</th>\n",
       "      <td>lamb  spinach  feta burgers</td>\n",
       "      <td>['ground lamb', 'frozen chopped spinach', 'oni...</td>\n",
       "    </tr>\n",
       "    <tr>\n",
       "      <th>141206</th>\n",
       "      <td>lamb  spinach  feta burgers</td>\n",
       "      <td>['ground lamb', 'frozen chopped spinach', 'oni...</td>\n",
       "    </tr>\n",
       "    <tr>\n",
       "      <th>387126</th>\n",
       "      <td>lamb  spinach  feta burgers</td>\n",
       "      <td>['ground lamb', 'frozen chopped spinach', 'oni...</td>\n",
       "    </tr>\n",
       "    <tr>\n",
       "      <th>459904</th>\n",
       "      <td>lamb  spinach  feta burgers</td>\n",
       "      <td>['ground lamb', 'frozen chopped spinach', 'oni...</td>\n",
       "    </tr>\n",
       "  </tbody>\n",
       "</table>\n",
       "</div>"
      ],
      "text/plain": [
       "                           recipe_name  \\\n",
       "456802          greek stuffed meatloaf   \n",
       "622519  lamburgers with tzatziki sauce   \n",
       "137134               zucchini moussaka   \n",
       "208539               zucchini moussaka   \n",
       "142241       moussaka  aunt dana style   \n",
       "575670       moussaka  aunt dana style   \n",
       "82465      lamb  spinach  feta burgers   \n",
       "141206     lamb  spinach  feta burgers   \n",
       "387126     lamb  spinach  feta burgers   \n",
       "459904     lamb  spinach  feta burgers   \n",
       "\n",
       "                                         ingredient_names  \n",
       "456802  ['lamb', 'hamburger', 'egg', 'milk', 'quick oa...  \n",
       "622519  ['ground lamb', 'feta cheese', 'greek olive', ...  \n",
       "137134  ['olive oil', 'zucchini', 'onion', 'ground lam...  \n",
       "208539  ['olive oil', 'zucchini', 'onion', 'ground lam...  \n",
       "142241  ['zucchini', 'olive oil', 'ground lamb', 'onio...  \n",
       "575670  ['zucchini', 'olive oil', 'ground lamb', 'onio...  \n",
       "82465   ['ground lamb', 'frozen chopped spinach', 'oni...  \n",
       "141206  ['ground lamb', 'frozen chopped spinach', 'oni...  \n",
       "387126  ['ground lamb', 'frozen chopped spinach', 'oni...  \n",
       "459904  ['ground lamb', 'frozen chopped spinach', 'oni...  "
      ]
     },
     "execution_count": 15,
     "metadata": {},
     "output_type": "execute_result"
    }
   ],
   "source": [
    "# TF-IDF on ingredients\n",
    "tfidf = TfidfVectorizer(stop_words='english')\n",
    "tfidf_matrix = tfidf.fit_transform(df_interactions_train['ingredient_names'])\n",
    "\n",
    "# Function to get recommendations\n",
    "def content_based_recommendations(recipe_name, top_n=10):\n",
    "    idx = df_interactions_train[df_interactions_train['recipe_name'] == recipe_name].index[0]\n",
    "    cosine_sim = cosine_similarity(tfidf_matrix[idx], tfidf_matrix)\n",
    "    sim_scores = list(enumerate(cosine_sim[0]))\n",
    "    sim_scores = sorted(sim_scores, key=lambda x: x[1], reverse=True)\n",
    "    sim_scores = sim_scores[1:top_n + 1]\n",
    "    recipe_indices = [i[0] for i in sim_scores]\n",
    "    return df_interactions_train.iloc[recipe_indices][['recipe_name', 'ingredient_names']]\n",
    "\n",
    "# Test the function\n",
    "content_based_recommendations('greek stuffed meatloaf') #Chocolate Cake')\n"
   ]
  }
 ],
 "metadata": {
  "kernelspec": {
   "display_name": "FlavorFusion",
   "language": "python",
   "name": "python3"
  },
  "language_info": {
   "codemirror_mode": {
    "name": "ipython",
    "version": 3
   },
   "file_extension": ".py",
   "mimetype": "text/x-python",
   "name": "python",
   "nbconvert_exporter": "python",
   "pygments_lexer": "ipython3",
   "version": "3.11.10"
  }
 },
 "nbformat": 4,
 "nbformat_minor": 2
}
