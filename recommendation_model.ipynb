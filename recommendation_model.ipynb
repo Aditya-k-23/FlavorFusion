{
 "cells": [
  {
   "cell_type": "code",
   "execution_count": null,
   "metadata": {},
   "outputs": [],
   "source": [
    "# Import Block\n",
    "import pandas as pd\n",
    "import matplotlib.pyplot as plt\n",
    "import numpy as np\n",
    "\n",
    "from surprise import SVD\n",
    "from surprise import Dataset, Reader\n",
    "from surprise.model_selection import train_test_split\n",
    "from surprise.accuracy import rmse, mse, mae, fcp\n",
    "\n",
    "from sklearn.feature_extraction.text import TfidfVectorizer\n",
    "from sklearn.metrics.pairwise import cosine_similarity\n",
    "from sklearn.preprocessing import MinMaxScaler"
   ]
  },
  {
   "cell_type": "markdown",
   "metadata": {},
   "source": [
    "# Collaborative Filtering\n",
    "\n",
    "## Singular Value Decomposition (SVD)\n"
   ]
  },
  {
   "cell_type": "code",
   "execution_count": null,
   "metadata": {},
   "outputs": [],
   "source": [
    "# Load data\n",
    "df_interactions_train = pd.read_csv(\"data/interactions_train_processed.csv\")\n",
    "\n",
    "# Load data into Surprise format\n",
    "reader = Reader(rating_scale=(1, 5))\n",
    "data = Dataset.load_from_df(df_interactions_train[['user_id', 'recipe_id', 'rating']], reader)\n",
    "\n",
    "# Train-test split\n",
    "trainset, testset = train_test_split(data, test_size=0.2, random_state=42)\n",
    "\n",
    "# Train SVD model\n",
    "svd = SVD(n_epochs=50, lr_all=0.005)\n",
    "svd.fit(trainset)\n",
    "\n",
    "def adjusted_cosine_similarity(matrix):\n",
    "    mean_centered = matrix - matrix.mean(axis=1, keepdims=True)\n",
    "    return cosine_similarity(mean_centered)\n",
    "\n",
    "# Predict and calculate cosine similarity\n",
    "predictions = svd.test(testset)\n",
    "similarity_matrix = adjusted_cosine_similarity(np.array([pred.est for pred in predictions]).reshape(-1, 1))\n",
    "\n",
    "# Rescale scores for better variation\n",
    "scaler = MinMaxScaler(feature_range=(1, 5))\n",
    "rescaled_scores = scaler.fit_transform(similarity_matrix)\n",
    "\n",
    "print(rescaled_scores)\n",
    "\n",
    "# Add noise for diversity\n",
    "#diverse_scores = rescaled_scores + np.random.uniform(-0.01, 0.01, rescaled_scores.shape)\n",
    "\n",
    "# Evaluate the model\n",
    "#predictions = svd.test(testset)\n",
    "\n",
    "# Add noise for diversity\n",
    "#diverse_scores = predictions + np.random.uniform(-0.01, 0.01, predictions.shape)\n",
    "\n",
    "# rmse\n",
    "#rmse(diverse_scores)"
   ]
  },
  {
   "cell_type": "code",
   "execution_count": null,
   "metadata": {},
   "outputs": [],
   "source": [
    "# Get recommendations for a specific user\n",
    "def recommend_recipes(model, user_id, df, num_recommendations=20):\n",
    "    \"\"\"\n",
    "    Generate recipe recommendations for a given user.\n",
    "\n",
    "    Args:\n",
    "    - model: The trained SVD model.\n",
    "    - user_id: The ID of the user for whom to recommend recipes.\n",
    "    - df: The original DataFrame with user-recipe interactions.\n",
    "    - num_recommendations: Number of recommendations to return.\n",
    "\n",
    "    Returns:\n",
    "    - DataFrame with top recommended recipes.\n",
    "    \"\"\"\n",
    "    # Get all recipe IDs\n",
    "    all_recipes = df['recipe_id'].unique()\n",
    "\n",
    "    # Get recipes the user has already rated\n",
    "    rated_recipes = df[df['user_id'] == user_id]['recipe_id'].values\n",
    "\n",
    "    # Get recipes the user has NOT rated\n",
    "    unrated_recipes = [recipe for recipe in all_recipes if recipe not in rated_recipes]\n",
    "\n",
    "    # Predict ratings for unrated recipes\n",
    "    predictions = []\n",
    "    for recipe_id in unrated_recipes:\n",
    "        pred = model.predict(user_id, recipe_id)\n",
    "        predictions.append((recipe_id, pred.est))\n",
    "\n",
    "    # Sort predictions by estimated rating\n",
    "    top_recommendations = sorted(predictions, key=lambda x: x[1], reverse=True)[:num_recommendations]\n",
    "\n",
    "    # Convert to DataFrame for better visualization\n",
    "    recommended_df = pd.DataFrame(top_recommendations, columns=['recipe_id', 'predicted_rating'])\n",
    "\n",
    "    # Get recipe_name and ingredients\n",
    "    #recommended_df = pd.merge(df, recommended_df, how='left', left_on='recipe_id', right_on='recipe_id')\n",
    "    #recommended_df = recommended_df[['recipe_id','recipe_name','ingredient_names','predicted_rating']]\n",
    "\n",
    "    return recommended_df\n",
    "\n",
    "# Example usage:\n",
    "user_id = 2046  # Replace with a user ID from your dataset\n",
    "recommendations = recommend_recipes(svd, user_id, df_interactions_train)\n"
   ]
  },
  {
   "cell_type": "code",
   "execution_count": null,
   "metadata": {},
   "outputs": [],
   "source": [
    "df_interactions_train[df_interactions_train['user_id']==2046]"
   ]
  },
  {
   "cell_type": "code",
   "execution_count": null,
   "metadata": {},
   "outputs": [],
   "source": [
    "df_interactions_train[df_interactions_train['recipe_id']==13285]['recipe_name'].drop_duplicates()"
   ]
  },
  {
   "cell_type": "markdown",
   "metadata": {},
   "source": [
    "# Content Filtering\n",
    "\n",
    "## Cosine Similarity\n"
   ]
  },
  {
   "cell_type": "code",
   "execution_count": null,
   "metadata": {},
   "outputs": [],
   "source": [
    "# TF-IDF on ingredients\n",
    "tfidf = TfidfVectorizer(stop_words='english')\n",
    "tfidf_matrix = tfidf.fit_transform(df_interactions_train['ingredient_names'])\n",
    "\n",
    "# Function to get recommendations\n",
    "def content_based_recommendations(recipe_name, top_n=10):\n",
    "    idx = df_interactions_train[df_interactions_train['recipe_name'] == recipe_name].index[0]\n",
    "    cosine_sim = cosine_similarity(tfidf_matrix[idx], tfidf_matrix)\n",
    "    sim_scores = list(enumerate(cosine_sim[0]))\n",
    "    sim_scores = sorted(sim_scores, key=lambda x: x[1], reverse=True)\n",
    "    sim_scores = sim_scores[1:top_n + 1]\n",
    "    recipe_indices = [i[0] for i in sim_scores]\n",
    "    output = df_interactions_train.iloc[recipe_indices][['recipe_name', 'ingredient_names']]\n",
    "    output.drop_duplicates(subset=['recipe_name', 'ingredient_names'],inplace=True)\n",
    "    return output\n",
    "\n",
    "# Test the function\n",
    "content_based_recommendations('zucchini moussaka')\n"
   ]
  }
 ],
 "metadata": {
  "kernelspec": {
   "display_name": "FlavorFusion",
   "language": "python",
   "name": "python3"
  },
  "language_info": {
   "codemirror_mode": {
    "name": "ipython",
    "version": 3
   },
   "file_extension": ".py",
   "mimetype": "text/x-python",
   "name": "python",
   "nbconvert_exporter": "python",
   "pygments_lexer": "ipython3",
   "version": "3.11.10"
  }
 },
 "nbformat": 4,
 "nbformat_minor": 2
}
