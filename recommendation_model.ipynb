{
 "cells": [
  {
   "cell_type": "code",
   "execution_count": 1,
   "metadata": {},
   "outputs": [],
   "source": [
    "import pandas as pd\n",
    "import matplotlib.pyplot as plt\n",
    "import numpy as np\n",
    "import pickle as pkl\n",
    "\n",
    "\n",
    "from surprise import SVD\n",
    "from surprise import Dataset, Reader\n",
    "from surprise.model_selection import train_test_split\n",
    "from surprise.accuracy import rmse\n",
    "\n",
    "from sklearn.feature_extraction.text import TfidfVectorizer\n",
    "from sklearn.metrics.pairwise import cosine_similarity"
   ]
  },
  {
   "cell_type": "markdown",
   "metadata": {},
   "source": [
    "# Collaborative Filtering\n",
    "\n",
    "## Singular Value Decomposition (SVD)\n"
   ]
  },
  {
   "cell_type": "code",
   "execution_count": 2,
   "metadata": {},
   "outputs": [],
   "source": [
    "# Load data\n",
    "df_interactions_train = pd.read_csv(\"data/interactions_train.csv\")\n",
    "\n",
    "# Drop unmapped id columns\n",
    "df_interactions_train.drop(['user_id','recipe_id'],axis=1,inplace=True)\n",
    "\n",
    "# Rename mapped id columns\n",
    "df_interactions_train.rename(columns={\"u\": \"user_id\",\"i\":\"recipe_id\"},inplace=True)\n",
    "df_interactions_train.insert(0, \"user_id\", df_interactions_train.pop(\"user_id\"))\n",
    "df_interactions_train.insert(1, \"recipe_id\", df_interactions_train.pop(\"recipe_id\"))\n",
    "\n",
    "# Convert 'date' column to datetime format\n",
    "df_interactions_train['date'] = pd.to_datetime(df_interactions_train['date'])"
   ]
  },
  {
   "cell_type": "code",
   "execution_count": 3,
   "metadata": {},
   "outputs": [
    {
     "name": "stdout",
     "output_type": "stream",
     "text": [
      "RMSE: 0.9204\n"
     ]
    },
    {
     "data": {
      "text/plain": [
       "0.9204051235024998"
      ]
     },
     "execution_count": 3,
     "metadata": {},
     "output_type": "execute_result"
    }
   ],
   "source": [
    "# Load data into Surprise format\n",
    "reader = Reader(rating_scale=(1, 5))\n",
    "data = Dataset.load_from_df(df_interactions_train[['user_id', 'recipe_id', 'rating']], reader)\n",
    "\n",
    "# Train-test split\n",
    "trainset, testset = train_test_split(data, test_size=0.2, random_state=42)\n",
    "\n",
    "# Train SVD model\n",
    "svd = SVD()\n",
    "svd.fit(trainset)\n",
    "\n",
    "# Evaluate the model\n",
    "predictions = svd.test(testset)\n",
    "rmse(predictions)"
   ]
  },
  {
   "cell_type": "markdown",
   "metadata": {},
   "source": [
    "# Content Filtering\n",
    "\n",
    "## Cosine Similarity\n"
   ]
  }
 ],
 "metadata": {
  "kernelspec": {
   "display_name": ".venv",
   "language": "python",
   "name": "python3"
  },
  "language_info": {
   "codemirror_mode": {
    "name": "ipython",
    "version": 3
   },
   "file_extension": ".py",
   "mimetype": "text/x-python",
   "name": "python",
   "nbconvert_exporter": "python",
   "pygments_lexer": "ipython3",
   "version": "3.9.10"
  }
 },
 "nbformat": 4,
 "nbformat_minor": 2
}
